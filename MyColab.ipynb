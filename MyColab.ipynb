{
  "nbformat": 4,
  "nbformat_minor": 0,
  "metadata": {
    "colab": {
      "name": "MyColab.ipynb",
      "provenance": [],
      "collapsed_sections": [],
      "authorship_tag": "ABX9TyM6xnabu8aipuqx007ZSViO",
      "include_colab_link": true
    },
    "kernelspec": {
      "name": "python3",
      "display_name": "Python 3"
    },
    "language_info": {
      "name": "python"
    }
  },
  "cells": [
    {
      "cell_type": "markdown",
      "metadata": {
        "id": "view-in-github",
        "colab_type": "text"
      },
      "source": [
        "<a href=\"https://colab.research.google.com/github/cuberisu/pychallenge/blob/main/MyColab.ipynb\" target=\"_parent\"><img src=\"https://colab.research.google.com/assets/colab-badge.svg\" alt=\"Open In Colab\"/></a>"
      ]
    },
    {
      "cell_type": "code",
      "metadata": {
        "id": "94YFnBuAFkFe",
        "colab": {
          "base_uri": "https://localhost:8080/"
        },
        "outputId": "9140c7d8-7dcb-4112-c3eb-664230ee8fc6"
      },
      "source": [
        "score = int(input(\"점수를 입력하세요.: \"))  # 점수를 정수형태로 입력받는다.\n",
        "\n",
        "if score >= 90:   # 점수가 90점 이상이면 A 출력\n",
        "  print(\"A 입니다.\")\n",
        "elif score >=80:    # 점수가 80점 이상이면 B 출력\n",
        "  print(\"B 입니다.\")\n",
        "elif score >=70:    # 점수가 70점 이상이면 C 출력\n",
        "  print(\"C 입니다.\")\n",
        "elif score >= 60:   # 점수가 60점 이상이면 D 출력\n",
        "  print(\"D 입니다.\")\n",
        "elif score < 60:    # # 점수가 60점 미만이면 F 출력\n",
        "  print(\"F 입니다.\")\n",
        "\n",
        "\n",
        "\n"
      ],
      "execution_count": 3,
      "outputs": [
        {
          "output_type": "stream",
          "name": "stdout",
          "text": [
            "점수를 입력하세요.: 50\n",
            "F 입니다.\n"
          ]
        }
      ]
    }
  ]
}