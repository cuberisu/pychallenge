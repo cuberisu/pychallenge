{
  "nbformat": 4,
  "nbformat_minor": 0,
  "metadata": {
    "colab": {
      "name": "MyColab.ipynb",
      "provenance": [],
      "collapsed_sections": [],
      "authorship_tag": "ABX9TyM6Jd0OEpO+dO2KkWG+FgPJ",
      "include_colab_link": true
    },
    "kernelspec": {
      "name": "python3",
      "display_name": "Python 3"
    },
    "language_info": {
      "name": "python"
    }
  },
  "cells": [
    {
      "cell_type": "markdown",
      "metadata": {
        "id": "view-in-github",
        "colab_type": "text"
      },
      "source": [
        "<a href=\"https://colab.research.google.com/github/cuberisu/pychallenge/blob/main/MyColab.ipynb\" target=\"_parent\"><img src=\"https://colab.research.google.com/assets/colab-badge.svg\" alt=\"Open In Colab\"/></a>"
      ]
    },
    {
      "cell_type": "code",
      "metadata": {
        "id": "94YFnBuAFkFe"
      },
      "source": [
        "score = int(input(\"점수를 입력하세요.: \"))\n",
        "\n",
        "if score >= 90:\n",
        "  print(\"A 입니다.\")\n",
        "elif score >=80:\n",
        "  print(\"B 입니다.\")\n",
        "elif score >=70:\n",
        "  print(\"C 입니다.\")\n",
        "elif score >= 60:\n",
        "  print(\"D 입니다.\")\n",
        "else score < 60:\n",
        "  print(\"F 입니다.\")\n",
        "\n",
        "\n",
        "\n"
      ],
      "execution_count": null,
      "outputs": []
    }
  ]
}