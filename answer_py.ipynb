{
  "nbformat": 4,
  "nbformat_minor": 0,
  "metadata": {
    "colab": {
      "name": "answer.py",
      "provenance": [],
      "collapsed_sections": [],
      "authorship_tag": "ABX9TyPuHDVBwRDrY78/4euOV+3l",
      "include_colab_link": true
    },
    "kernelspec": {
      "name": "python3",
      "display_name": "Python 3"
    },
    "language_info": {
      "name": "python"
    }
  },
  "cells": [
    {
      "cell_type": "markdown",
      "metadata": {
        "id": "view-in-github",
        "colab_type": "text"
      },
      "source": [
        "<a href=\"https://colab.research.google.com/github/cuberisu/pychallenge/blob/main/answer_py.ipynb\" target=\"_parent\"><img src=\"https://colab.research.google.com/assets/colab-badge.svg\" alt=\"Open In Colab\"/></a>"
      ]
    },
    {
      "cell_type": "code",
      "metadata": {
        "id": "94YFnBuAFkFe",
        "colab": {
          "base_uri": "https://localhost:8080/"
        },
        "outputId": "9140c7d8-7dcb-4112-c3eb-664230ee8fc6"
      },
      "source": [
        "score = int(input(\"점수를 입력하세요.: \"))  # 점수를 정수형태로 입력받는다.\n",
        "\n",
        "if score >= 90:   # 점수가 90점 이상이면 A 출력\n",
        "  print(\"A 입니다.\")\n",
        "elif score >=80:    # 점수가 80점 이상이면 B 출력\n",
        "  print(\"B 입니다.\")\n",
        "elif score >=70:    # 점수가 70점 이상이면 C 출력\n",
        "  print(\"C 입니다.\")\n",
        "elif score >= 60:   # 점수가 60점 이상이면 D 출력\n",
        "  print(\"D 입니다.\")\n",
        "elif score < 60:    # # 점수가 60점 미만이면 F 출력\n",
        "  print(\"F 입니다.\")\n",
        "\n",
        "\n",
        "\n"
      ],
      "execution_count": null,
      "outputs": [
        {
          "output_type": "stream",
          "name": "stdout",
          "text": [
            "점수를 입력하세요.: 50\n",
            "F 입니다.\n"
          ]
        }
      ]
    },
    {
      "cell_type": "code",
      "metadata": {
        "id": "vKEx0iSadfI6"
      },
      "source": [
        "import turtle   # turtle 모듈 불러오기\n",
        "t = turtle.Pen()    # turtle = t 거북이 만들기\n",
        "t.shape(\"tuetle\")   # 커서를 거북이 모양으로 만들기\n",
        "\n",
        "while True:   # 무한루프\n",
        "  where = input(\"왼쪽? 오른쪽? (L/R): \")    # L과 R 중에 입력받기\n",
        "  if where == \"L\"   # L일 때\n",
        "    t.left(90)    # 왼쪽 90도 회전\n",
        "    t.fd(100)     # 100픽셀 전진\n",
        "  if where == \"R\"   # R일 때\n",
        "    t.right(90)   # 오른쪽 90도 회전\n",
        "    t.fd(100)     # 100픽셀 전진\n"
      ],
      "execution_count": null,
      "outputs": []
    }
  ]
}